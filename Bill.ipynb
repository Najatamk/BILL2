{
 "cells": [
  {
   "cell_type": "code",
   "execution_count": null,
   "id": "509e76d1",
   "metadata": {},
   "outputs": [],
   "source": [
    "cd"
   ]
  }
 ],
 "metadata": {
  "language_info": {
   "name": "python"
  }
 },
 "nbformat": 4,
 "nbformat_minor": 5
}
